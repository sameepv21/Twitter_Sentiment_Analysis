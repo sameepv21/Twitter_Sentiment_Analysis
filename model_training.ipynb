{
 "cells": [
  {
   "cell_type": "code",
   "execution_count": 1,
   "metadata": {
    "scrolled": false
   },
   "outputs": [],
   "source": [
    "# primary libraries\n",
    "import numpy as np\n",
    "import pandas as pd\n",
    "import seaborn as sns\n",
    "import matplotlib\n",
    "import matplotlib.pyplot as plt\n",
    "\n",
    "# text processing libraries\n",
    "import nltk\n",
    "from sklearn.naive_bayes import MultinomialNB\n",
    "from sklearn.feature_extraction.text import CountVectorizer, TfidfVectorizer\n",
    "from sklearn.preprocessing import LabelEncoder\n",
    "\n",
    "# Misc\n",
    "from sklearn.metrics import roc_auc_score"
   ]
  },
  {
   "cell_type": "code",
   "execution_count": 2,
   "metadata": {
    "scrolled": false
   },
   "outputs": [
    {
     "data": {
      "text/html": [
       "<div>\n",
       "<style scoped>\n",
       "    .dataframe tbody tr th:only-of-type {\n",
       "        vertical-align: middle;\n",
       "    }\n",
       "\n",
       "    .dataframe tbody tr th {\n",
       "        vertical-align: top;\n",
       "    }\n",
       "\n",
       "    .dataframe thead th {\n",
       "        text-align: right;\n",
       "    }\n",
       "</style>\n",
       "<table border=\"1\" class=\"dataframe\">\n",
       "  <thead>\n",
       "    <tr style=\"text-align: right;\">\n",
       "      <th></th>\n",
       "      <th>tweets</th>\n",
       "    </tr>\n",
       "  </thead>\n",
       "  <tbody>\n",
       "    <tr>\n",
       "      <th>0</th>\n",
       "      <td>im get on borderland and i will murder you all...</td>\n",
       "    </tr>\n",
       "    <tr>\n",
       "      <th>1</th>\n",
       "      <td>the biggest dissappoin in my life came out a y...</td>\n",
       "    </tr>\n",
       "    <tr>\n",
       "      <th>2</th>\n",
       "      <td>rockhard la varlop rare power handsom jackpot ...</td>\n",
       "    </tr>\n",
       "    <tr>\n",
       "      <th>3</th>\n",
       "      <td>appreci the sonic concept praxi valenzuela and...</td>\n",
       "    </tr>\n",
       "  </tbody>\n",
       "</table>\n",
       "</div>"
      ],
      "text/plain": [
       "                                              tweets\n",
       "0  im get on borderland and i will murder you all...\n",
       "1  the biggest dissappoin in my life came out a y...\n",
       "2  rockhard la varlop rare power handsom jackpot ...\n",
       "3  appreci the sonic concept praxi valenzuela and..."
      ]
     },
     "execution_count": 2,
     "metadata": {},
     "output_type": "execute_result"
    }
   ],
   "source": [
    "X_train = pd.read_csv(\"./Dataset/cleaned_training.csv\")\n",
    "X_test = pd.read_csv(\"./Dataset/cleaned_test.csv\")\n",
    "\n",
    "X_train.drop(\"Unnamed: 0\", axis = 1, inplace = True)\n",
    "y_train = X_train['sentiment']\n",
    "X_train.drop('sentiment', axis = True, inplace = True)\n",
    "\n",
    "X_test.drop(['Unnamed: 0', \"company\"], axis = 1, inplace = True)\n",
    "y_test = X_test['sentiment']\n",
    "X_test.drop(\"sentiment\", axis = 1, inplace = True)\n",
    "\n",
    "X_train.head()"
   ]
  },
  {
   "cell_type": "code",
   "execution_count": 3,
   "metadata": {
    "scrolled": false
   },
   "outputs": [
    {
     "data": {
      "text/plain": [
       "(array([3, 1, 2, 0]),\n",
       " array(['Irrelevant', 'Negative', 'Neutral', 'Positive'], dtype=object))"
      ]
     },
     "execution_count": 3,
     "metadata": {},
     "output_type": "execute_result"
    }
   ],
   "source": [
    "# encode target and company names\n",
    "sentiment_encoder = LabelEncoder()\n",
    "y_train = sentiment_encoder.fit_transform(y_train)\n",
    "y_test = sentiment_encoder.transform(y_test)\n",
    "\n",
    "y_train, sentiment_encoder.classes_"
   ]
  },
  {
   "cell_type": "markdown",
   "metadata": {},
   "source": [
    "### TFIDF (Implementation)\n",
    "* Scikit-learn has a variety of parameters. For more, click [here](https://scikit-learn.org/stable/modules/generated/sklearn.feature_extraction.text.TfidfVectorizer.html)\n",
    "* sublinear_tf replaces tf with 1 + log(tf) which proves to be important for scaling the values.\n",
    "* Its output is of the format (A, B) C where A is the document index, B is the word vector index and C is the tfidf score.\n",
    "* Use .toarray() function to obtain only the tfidf scores.\n",
    "* As for the words that appear in training data but not in test data, sklearn simply doesn't include the tdidf scores for such words. \n",
    "* Similary for words that appear in test data but not in training data, sklearn assigns tfidf score to such words as 0."
   ]
  },
  {
   "cell_type": "code",
   "execution_count": 4,
   "metadata": {
    "scrolled": false
   },
   "outputs": [],
   "source": [
    "# tfidf vectorizer\n",
    "# return format is (A, B) C where A is the document index, B is the word vector index and C is the tfidf score\n",
    "temp_arr = []\n",
    "for document in X_train['tweets']:\n",
    "    temp_arr.append(document)\n",
    "    \n",
    "vectorizer = TfidfVectorizer(min_df = 0.05, sublinear_tf = True)\n",
    "tfidf_scores_train = vectorizer.fit_transform(X_train['tweets'])\n",
    "tfidf_scores_test = vectorizer.transform(X_test['cleaned_tweets'])"
   ]
  },
  {
   "cell_type": "code",
   "execution_count": 5,
   "metadata": {
    "scrolled": false
   },
   "outputs": [
    {
     "data": {
      "text/plain": [
       "array([[0.25363334, 0.24970555, 0.24690678, 0.24975432],\n",
       "       [0.24784358, 0.25100818, 0.25151135, 0.24963689],\n",
       "       [0.25037815, 0.25162096, 0.24877448, 0.24922641],\n",
       "       ...,\n",
       "       [0.25026768, 0.25037421, 0.24763634, 0.25172178],\n",
       "       [0.24965188, 0.25009444, 0.24863578, 0.2516179 ],\n",
       "       [0.24699647, 0.25175029, 0.25362663, 0.24762661]])"
      ]
     },
     "execution_count": 5,
     "metadata": {},
     "output_type": "execute_result"
    }
   ],
   "source": [
    "model = MultinomialNB()\n",
    "model.fit(tfidf_scores_train, y_train)\n",
    "preds = model.predict_proba(tfidf_scores_test)\n",
    "preds"
   ]
  },
  {
   "cell_type": "code",
   "execution_count": 6,
   "metadata": {
    "scrolled": false
   },
   "outputs": [
    {
     "data": {
      "text/plain": [
       "0.898402468062414"
      ]
     },
     "execution_count": 6,
     "metadata": {},
     "output_type": "execute_result"
    }
   ],
   "source": [
    "score = roc_auc_score(y_test, preds, multi_class='ovo')\n",
    "score"
   ]
  }
 ],
 "metadata": {
  "kernelspec": {
   "display_name": "Python 3 (ipykernel)",
   "language": "python",
   "name": "python3"
  },
  "language_info": {
   "codemirror_mode": {
    "name": "ipython",
    "version": 3
   },
   "file_extension": ".py",
   "mimetype": "text/x-python",
   "name": "python",
   "nbconvert_exporter": "python",
   "pygments_lexer": "ipython3",
   "version": "3.8.10"
  },
  "vscode": {
   "interpreter": {
    "hash": "916dbcbb3f70747c44a77c7bcd40155683ae19c65e1c03b4aa3499c5328201f1"
   }
  }
 },
 "nbformat": 4,
 "nbformat_minor": 2
}
